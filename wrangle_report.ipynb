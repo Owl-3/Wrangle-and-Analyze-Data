{
 "cells": [
  {
   "cell_type": "markdown",
   "metadata": {},
   "source": [
    "## Reporting: wragle_report\n"
   ]
  },
  {
   "cell_type": "markdown",
   "metadata": {},
   "source": [
    "### Wrangle Report:\n",
    "The dataset wrangled in the project is the tweet archive of Twitter user @dog_rates, also \n",
    "known as WeRateDogs. WeRateDogs is a Twitter account that rates people's dogs with a \n",
    "humorous comment about the dog. \n",
    "\n",
    "The WeRateDogs Twitter project goals included:\n",
    ">- Wrangling the twitter data through the following processes: \n",
    ">- Gathering data\n",
    ">- Assessing data\n",
    ">- Cleaning data\n",
    ">- Storing, analyzing, and visualizing your wrangled data\n",
    ">- Reporting on the data wrangling efforts and data analyses and visualizations"
   ]
  },
  {
   "cell_type": "markdown",
   "metadata": {},
   "source": [
    "## Wrangle Data\n",
    "\n",
    ">My wrangling efforts for the WeRateDogs Twitter project included gathering data from the\n",
    "following sources:\n",
    ">- The WeRateDogs Twitter archive. The twitter_archive_enhanced.csv file was provided \n",
    "to Udacity students. WeRateDogs downloaded their Twitter archive and sent it to \n",
    "Udacity via email exclusively for you to use in this project. This archive contains basic \n",
    "tweet data (tweet ID, timestamp, text, etc.) for all 5000+ of their tweets as they stood \n",
    "on August 1, 2017.\n",
    ">- The tweet image predictions, i.e., what breed of dog (or other object, animal, etc.) is \n",
    "present in each tweet according to a neural network. This file was provided to Udacity \n",
    "students.\n",
    ">- Twitter API and Python's Tweepy library to gather each tweet's retweet count and \n",
    "favorite (\"like\") count at minimum, and any additional data I find interesting.\n"
   ]
  },
  {
   "cell_type": "markdown",
   "metadata": {},
   "source": [
    "### Assessing Report:\n",
    "I extensively assessed the data and used the primary parameters to determine data quality:\n",
    "     \n",
    "### Quality issues\n",
    "\n",
    "#### Data quality is determined by the following parameters:\n",
    "- Completeness: availability of missing data\n",
    "- Validity : Different columns have right data input\n",
    "- Accuracy : columns have right data types. No duplicates.\n",
    "- Consistency\n",
    "\n",
    "\n",
    "\n",
    "\n",
    "\n",
    ">1. dog names: some dogs have 'None' as a name, or 'a', or 'an.'\n",
    "\n",
    ">2. A lot of missing data in, retweeted_status_timestamp, retweeted_status_id, retweeted_status_user_id\n",
    "\n",
    ">3. timestamp is an object\n",
    ">4. p1, p2, p3 are column duplicates of image dataframe\n",
    ">5. retweeted_status_timestamp is also an object instead of datetime\n",
    ">6. rating_numerator goes up to 1776\n",
    "\n",
    ">7. rating_denominator should be a standard 10, but there are many values above 10\n",
    ">8. the source column still has the HTML tags"
   ]
  },
  {
   "cell_type": "markdown",
   "metadata": {},
   "source": [
    "### Tidiness issues:\n",
    "On tidy issues, I was able to identify the following:\n",
    "    \n",
    "1. The last 4 variables of twitter_archive are relatable therefore can form one column\n",
    "\n",
    "2. p1, p2, p3 seems relatable therefore can be combined to form one column"
   ]
  },
  {
   "cell_type": "markdown",
   "metadata": {},
   "source": [
    "### Cleaning Report:\n",
    "### Issues:\n",
    "#### I defined the following issues in my data cleaning process:\n",
    "- Merge the clean versions of twitter_archive, image_df, and tweet_df dataframes. \n",
    "- Create one column for the various dog types: doggo, floofer, pupper, puppo then drop other unnecesary columns \n",
    "- Converting rating_numerator and rating_denominator into float\n",
    "- Remove unnecessary columns for easier manipulation\n",
    "- Change the timestamp to correct datetime format from object\n",
    "- Creating a rating column\n",
    "- creating month column\n",
    "- remove missing values"
   ]
  },
  {
   "cell_type": "markdown",
   "metadata": {},
   "source": [
    "### Insights:\n",
    "I did some visualizations to help me derive key insights from the data.\n",
    "The followingnare the key insights I came up with after visualization and analysis:\n",
    "    \n",
    "1. Floffer has the highest rating while pupper has the least rating\n",
    "\n",
    "2. floofer and puppo have almost similar amount of likes while pupper has the least\n",
    "\n",
    "3. floofer has the highest number of retweets while pupper  has the least\n",
    "\n",
    "4. pupper is the most popular dog breed while floofer is the least one"
   ]
  }
 ],
 "metadata": {
  "kernelspec": {
   "display_name": "Python 3",
   "language": "python",
   "name": "python3"
  },
  "language_info": {
   "codemirror_mode": {
    "name": "ipython",
    "version": 3
   },
   "file_extension": ".py",
   "mimetype": "text/x-python",
   "name": "python",
   "nbconvert_exporter": "python",
   "pygments_lexer": "ipython3",
   "version": "3.6.3"
  }
 },
 "nbformat": 4,
 "nbformat_minor": 2
}
